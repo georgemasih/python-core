{
 "cells": [
  {
   "cell_type": "markdown",
   "id": "a859aa6d",
   "metadata": {},
   "source": [
    "13. Write a program that accepts a sentence and calculate the number of letters and digits. "
   ]
  },
  {
   "cell_type": "code",
   "execution_count": 5,
   "id": "cbde2f39",
   "metadata": {},
   "outputs": [
    {
     "name": "stdout",
     "output_type": "stream",
     "text": [
      "hello world! 123\n",
      "LETTERS 16\n"
     ]
    }
   ],
   "source": [
    "s=input(\"\")\n",
    "c=0\n",
    "for i in s:\n",
    "    c=c+1\n",
    "print(\"LETTERS\",c)"
   ]
  },
  {
   "cell_type": "markdown",
   "id": "3d48b14c",
   "metadata": {},
   "source": [
    "14. Write a program that accepts a sentence and calculate the number of upper case letters and lower case letters. \n",
    "Suppose the input is supplied to the program: Hello world! \n",
    "Then, the output should be: UPPER CASE 1 \n",
    "LOWER CASE 9 \n"
   ]
  },
  {
   "cell_type": "code",
   "execution_count": 1,
   "id": "3ed62cfb",
   "metadata": {},
   "outputs": [
    {
     "name": "stdout",
     "output_type": "stream",
     "text": [
      "LETTER 1\n",
      "LETTER 10\n"
     ]
    }
   ],
   "source": [
    "s=\"Hello world\"\n",
    "c=0\n",
    "d=0\n",
    "for i in s:\n",
    "    if i.isupper():\n",
    "        c=c+1\n",
    "    else:\n",
    "        d=d+1\n",
    "print(\"LETTER\",c)\n",
    "print(\"LETTER\",d)"
   ]
  },
  {
   "cell_type": "code",
   "execution_count": null,
   "id": "91ab6f7a",
   "metadata": {},
   "outputs": [],
   "source": []
  },
  {
   "cell_type": "code",
   "execution_count": null,
   "id": "5aab16d4",
   "metadata": {},
   "outputs": [],
   "source": []
  },
  {
   "cell_type": "code",
   "execution_count": null,
   "id": "c7bca055",
   "metadata": {},
   "outputs": [],
   "source": []
  },
  {
   "cell_type": "code",
   "execution_count": null,
   "id": "f27bc442",
   "metadata": {},
   "outputs": [],
   "source": []
  },
  {
   "cell_type": "code",
   "execution_count": null,
   "id": "8d3d4c30",
   "metadata": {},
   "outputs": [],
   "source": []
  },
  {
   "cell_type": "code",
   "execution_count": null,
   "id": "cec4c55c",
   "metadata": {},
   "outputs": [],
   "source": [
    "\n"
   ]
  },
  {
   "cell_type": "code",
   "execution_count": null,
   "id": "c16b0158",
   "metadata": {},
   "outputs": [],
   "source": []
  },
  {
   "cell_type": "code",
   "execution_count": null,
   "id": "f649788d",
   "metadata": {},
   "outputs": [],
   "source": []
  },
  {
   "cell_type": "code",
   "execution_count": null,
   "id": "ba084901",
   "metadata": {},
   "outputs": [],
   "source": []
  }
 ],
 "metadata": {
  "kernelspec": {
   "display_name": "Python 3 (ipykernel)",
   "language": "python",
   "name": "python3"
  },
  "language_info": {
   "codemirror_mode": {
    "name": "ipython",
    "version": 3
   },
   "file_extension": ".py",
   "mimetype": "text/x-python",
   "name": "python",
   "nbconvert_exporter": "python",
   "pygments_lexer": "ipython3",
   "version": "3.9.7"
  }
 },
 "nbformat": 4,
 "nbformat_minor": 5
}
