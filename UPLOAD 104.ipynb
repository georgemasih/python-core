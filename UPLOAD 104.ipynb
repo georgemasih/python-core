{
 "cells": [
  {
   "cell_type": "code",
   "execution_count": null,
   "id": "ac662426",
   "metadata": {},
   "outputs": [],
   "source": [
    "Q1.WAP to create a function to convert celsius to fahrenheit."
   ]
  },
  {
   "cell_type": "code",
   "execution_count": 2,
   "id": "b3a295ed",
   "metadata": {},
   "outputs": [
    {
     "name": "stdout",
     "output_type": "stream",
     "text": [
      "enter the celius0\n",
      "32.0\n"
     ]
    }
   ],
   "source": [
    "def temp():\n",
    "    c=int(input(\"enter the celius\"))\n",
    "    f=c*9/5+32\n",
    "    print(f)\n",
    "temp()"
   ]
  },
  {
   "cell_type": "code",
   "execution_count": null,
   "id": "55d5b099",
   "metadata": {},
   "outputs": [],
   "source": []
  }
 ],
 "metadata": {
  "kernelspec": {
   "display_name": "Python 3 (ipykernel)",
   "language": "python",
   "name": "python3"
  },
  "language_info": {
   "codemirror_mode": {
    "name": "ipython",
    "version": 3
   },
   "file_extension": ".py",
   "mimetype": "text/x-python",
   "name": "python",
   "nbconvert_exporter": "python",
   "pygments_lexer": "ipython3",
   "version": "3.9.7"
  }
 },
 "nbformat": 4,
 "nbformat_minor": 5
}
