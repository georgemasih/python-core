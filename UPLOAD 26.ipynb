{
 "cells": [
  {
   "cell_type": "markdown",
   "id": "89805e22",
   "metadata": {},
   "source": [
    "Q48. The Fibonacci sequence is computed based on the following formula: \n",
    "f(n)=0 if n=0 \n",
    "f(n)=1 if n=1 \n",
    "f(n)=f(n-1)+f(n-2) if n>1 \n",
    "Please write a program to compute the value of f(n) with a given n input by console. \n",
    "If the following n is given as input to the program: 7 \n",
    "Then, the output of the program should be: 13 \n",
    "In case of input data being supplied to the question, it should be assumed to be a console input. \n",
    "Hints: We can define recursive function in Python. "
   ]
  },
  {
   "cell_type": "code",
   "execution_count": 4,
   "id": "0473543c",
   "metadata": {},
   "outputs": [
    {
     "name": "stdout",
     "output_type": "stream",
     "text": [
      "7\n",
      "13\n"
     ]
    }
   ],
   "source": [
    "n=int(input())\n",
    "a=0\n",
    "b=1\n",
    "for i in range(0,n+1):\n",
    "    c=a\n",
    "    a=b\n",
    "    b=(a+c)\n",
    "print(c)"
   ]
  },
  {
   "cell_type": "markdown",
   "id": "6ec07fe2",
   "metadata": {},
   "source": [
    "Q49. The Fibonacci sequence is computed based on the following formula: \n",
    "f(n)=0 if n=0 \n",
    "f(n)=1 if n=1 \n",
    "f(n)=f(n-1)+f(n-2) if n>1 \n",
    "\n",
    "Please write a program using list comprehension to print the Fibonacci sequence in comma separated form with a given n input by console. \n",
    "If the following n is given as input to the program: 7 \n",
    "Then, the output of the program should be: 0, 1, 1, 2, 3, 5, 8, 13 \n",
    "Hints: We can define recursive function in Python. Use list comprehension to generate a list from an existing list. Use string.join() to join a list of strings. In case of input data being supplied to the question, it should be assumed to be a console input. \n"
   ]
  },
  {
   "cell_type": "code",
   "execution_count": 5,
   "id": "76853a19",
   "metadata": {},
   "outputs": [
    {
     "name": "stdout",
     "output_type": "stream",
     "text": [
      "7\n",
      "0\n",
      "1\n",
      "1\n",
      "2\n",
      "3\n",
      "5\n",
      "8\n",
      "13\n"
     ]
    }
   ],
   "source": [
    "n=int(input())\n",
    "a=0\n",
    "b=1\n",
    "for i in range(0,n+1):\n",
    "    c=a\n",
    "    a=b\n",
    "    b=(a+c)\n",
    "    print(c)"
   ]
  },
  {
   "cell_type": "code",
   "execution_count": null,
   "id": "ca615e52",
   "metadata": {},
   "outputs": [],
   "source": []
  },
  {
   "cell_type": "code",
   "execution_count": null,
   "id": "d7247c78",
   "metadata": {},
   "outputs": [],
   "source": []
  },
  {
   "cell_type": "markdown",
   "id": "90c6a9d9",
   "metadata": {},
   "source": []
  },
  {
   "cell_type": "code",
   "execution_count": null,
   "id": "f1175fdc",
   "metadata": {},
   "outputs": [],
   "source": []
  },
  {
   "cell_type": "markdown",
   "id": "614da5a1",
   "metadata": {},
   "source": []
  },
  {
   "cell_type": "code",
   "execution_count": null,
   "id": "f27bc442",
   "metadata": {},
   "outputs": [],
   "source": []
  },
  {
   "cell_type": "code",
   "execution_count": null,
   "id": "8d3d4c30",
   "metadata": {},
   "outputs": [],
   "source": []
  },
  {
   "cell_type": "code",
   "execution_count": null,
   "id": "aa6c4313",
   "metadata": {},
   "outputs": [],
   "source": []
  },
  {
   "cell_type": "code",
   "execution_count": null,
   "id": "cec4c55c",
   "metadata": {},
   "outputs": [],
   "source": []
  },
  {
   "cell_type": "code",
   "execution_count": null,
   "id": "c16b0158",
   "metadata": {},
   "outputs": [],
   "source": []
  },
  {
   "cell_type": "code",
   "execution_count": null,
   "id": "f649788d",
   "metadata": {},
   "outputs": [],
   "source": []
  },
  {
   "cell_type": "code",
   "execution_count": null,
   "id": "ba084901",
   "metadata": {},
   "outputs": [],
   "source": []
  }
 ],
 "metadata": {
  "kernelspec": {
   "display_name": "Python 3 (ipykernel)",
   "language": "python",
   "name": "python3"
  },
  "language_info": {
   "codemirror_mode": {
    "name": "ipython",
    "version": 3
   },
   "file_extension": ".py",
   "mimetype": "text/x-python",
   "name": "python",
   "nbconvert_exporter": "python",
   "pygments_lexer": "ipython3",
   "version": "3.9.7"
  }
 },
 "nbformat": 4,
 "nbformat_minor": 5
}
