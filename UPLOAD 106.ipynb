{
 "cells": [
  {
   "cell_type": "markdown",
   "id": "135e11ef",
   "metadata": {},
   "source": [
    "Q1.WAP to create a function to subtraction of numbers ."
   ]
  },
  {
   "cell_type": "code",
   "execution_count": 2,
   "id": "b3a295ed",
   "metadata": {},
   "outputs": [
    {
     "name": "stdout",
     "output_type": "stream",
     "text": [
      "enter the no:45\n",
      "enter the no:21\n",
      "24\n"
     ]
    }
   ],
   "source": [
    "def subtraction():\n",
    "    a=int(input(\"enter the no:\"))\n",
    "    b=int(input(\"enter the no:\"))\n",
    "    c=a-b\n",
    "    print(c)\n",
    "subtraction()"
   ]
  },
  {
   "cell_type": "code",
   "execution_count": null,
   "id": "55d5b099",
   "metadata": {},
   "outputs": [],
   "source": []
  },
  {
   "cell_type": "code",
   "execution_count": null,
   "id": "4d0b67ee",
   "metadata": {},
   "outputs": [],
   "source": []
  },
  {
   "cell_type": "code",
   "execution_count": null,
   "id": "32bb530f",
   "metadata": {},
   "outputs": [],
   "source": []
  },
  {
   "cell_type": "code",
   "execution_count": null,
   "id": "29eb5b0d",
   "metadata": {},
   "outputs": [],
   "source": []
  }
 ],
 "metadata": {
  "kernelspec": {
   "display_name": "Python 3 (ipykernel)",
   "language": "python",
   "name": "python3"
  },
  "language_info": {
   "codemirror_mode": {
    "name": "ipython",
    "version": 3
   },
   "file_extension": ".py",
   "mimetype": "text/x-python",
   "name": "python",
   "nbconvert_exporter": "python",
   "pygments_lexer": "ipython3",
   "version": "3.9.7"
  }
 },
 "nbformat": 4,
 "nbformat_minor": 5
}
