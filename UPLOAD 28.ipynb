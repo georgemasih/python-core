{
 "cells": [
  {
   "cell_type": "markdown",
   "id": "89805e22",
   "metadata": {},
   "source": [
    "Q1. Please write assert statements to verify that every number in the list [2,4,6,8] is even. \n"
   ]
  },
  {
   "cell_type": "code",
   "execution_count": 28,
   "id": "0473543c",
   "metadata": {},
   "outputs": [],
   "source": [
    "l=[0,2,4,6,8]\n",
    "for i in l:\n",
    "    assert i%2==0\n",
    "        "
   ]
  },
  {
   "cell_type": "markdown",
   "id": "6ec07fe2",
   "metadata": {},
   "source": [
    "Q2. Please write a program which accepts basic mathematic expression from console and print the evaluation result. \n",
    "If the following string is given as input to the program: 35+3 \n",
    "Then, the output of the program should be: 38 "
   ]
  },
  {
   "cell_type": "code",
   "execution_count": 19,
   "id": "76853a19",
   "metadata": {},
   "outputs": [
    {
     "name": "stdout",
     "output_type": "stream",
     "text": [
      "35 3\n",
      "38\n"
     ]
    }
   ],
   "source": [
    "n=input().split()\n",
    "s=0\n",
    "for i in n:\n",
    "    i=int(i)\n",
    "    s=s+i\n",
    "print(s)\n",
    "    "
   ]
  },
  {
   "cell_type": "code",
   "execution_count": 27,
   "id": "ca615e52",
   "metadata": {},
   "outputs": [],
   "source": []
  },
  {
   "cell_type": "code",
   "execution_count": null,
   "id": "d7247c78",
   "metadata": {},
   "outputs": [],
   "source": []
  },
  {
   "cell_type": "code",
   "execution_count": null,
   "id": "3e9cec59",
   "metadata": {},
   "outputs": [],
   "source": []
  },
  {
   "cell_type": "code",
   "execution_count": null,
   "id": "f1175fdc",
   "metadata": {},
   "outputs": [],
   "source": []
  },
  {
   "cell_type": "code",
   "execution_count": null,
   "id": "eb692fe9",
   "metadata": {},
   "outputs": [],
   "source": []
  },
  {
   "cell_type": "code",
   "execution_count": null,
   "id": "f27bc442",
   "metadata": {},
   "outputs": [],
   "source": []
  },
  {
   "cell_type": "code",
   "execution_count": null,
   "id": "8d3d4c30",
   "metadata": {},
   "outputs": [],
   "source": []
  },
  {
   "cell_type": "code",
   "execution_count": null,
   "id": "aa6c4313",
   "metadata": {},
   "outputs": [],
   "source": []
  },
  {
   "cell_type": "code",
   "execution_count": null,
   "id": "cec4c55c",
   "metadata": {},
   "outputs": [],
   "source": []
  },
  {
   "cell_type": "code",
   "execution_count": null,
   "id": "c16b0158",
   "metadata": {},
   "outputs": [],
   "source": []
  },
  {
   "cell_type": "code",
   "execution_count": null,
   "id": "f649788d",
   "metadata": {},
   "outputs": [],
   "source": []
  },
  {
   "cell_type": "code",
   "execution_count": null,
   "id": "ba084901",
   "metadata": {},
   "outputs": [],
   "source": []
  }
 ],
 "metadata": {
  "kernelspec": {
   "display_name": "Python 3 (ipykernel)",
   "language": "python",
   "name": "python3"
  },
  "language_info": {
   "codemirror_mode": {
    "name": "ipython",
    "version": 3
   },
   "file_extension": ".py",
   "mimetype": "text/x-python",
   "name": "python",
   "nbconvert_exporter": "python",
   "pygments_lexer": "ipython3",
   "version": "3.9.7"
  }
 },
 "nbformat": 4,
 "nbformat_minor": 5
}
