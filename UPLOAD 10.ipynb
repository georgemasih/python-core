{
 "cells": [
  {
   "cell_type": "markdown",
   "id": "89805e22",
   "metadata": {},
   "source": [
    "Q18. You are required to write a program to sort the (name, age, height) tuples by ascending order where name is string, age and height are numbers. The tuples are input by console. The sort criteria is: \n",
    "1: Sort based on name; \n",
    "2: Then sort based on age; \n",
    "3: Then sort by score. \n",
    "The priority is that name > age > score. \n",
    "If the following tuples are given as input to the program: \n",
    "Tom,19,80 \n",
    "John,20,90 \n",
    "Jony,17,91 \n",
    "Jony,17,93 \n",
    "Json,21,85 \n",
    "Then, the output of the program should be: \n",
    "[('John', '20', '90'), ('Jony', '17', '91'), ('Jony', '17', '93'), ('Json', '21', '85'), ('Tom', '19', '80')] \n",
    "\n"
   ]
  },
  {
   "cell_type": "code",
   "execution_count": 1,
   "id": "cbde2f39",
   "metadata": {},
   "outputs": [
    {
     "name": "stdout",
     "output_type": "stream",
     "text": [
      "(Name,Age,Score)tom 19 80\n",
      "(Name,Age,Score)john 20 90\n",
      "(Name,Age,Score)jony 17 91\n",
      "(Name,Age,Score)jony 17 93\n",
      "(Name,Age,Score)json 21 85\n",
      "(Name,Age,Score) \n",
      "[('john', '20', '90'), ('jony', '17', '91'), ('jony', '17', '93'), ('json', '21', '85'), ('tom', '19', '80')]\n"
     ]
    }
   ],
   "source": [
    "l1=[]\n",
    "while True:\n",
    "    l=input(\"(Name,Age,Score)\")\n",
    "    if l==\" \":\n",
    "        break\n",
    "    else:\n",
    "        l1.append(tuple(l.split()))\n",
    "l1.sort()\n",
    "print(l1)  "
   ]
  },
  {
   "cell_type": "markdown",
   "id": "3746d60b",
   "metadata": {},
   "source": [
    "Q19. Define a class with a generator which can iterate the numbers, which are divisible by 7, between a given range 0 and n. \n",
    "Hints: Consider use yield"
   ]
  },
  {
   "cell_type": "code",
   "execution_count": 2,
   "id": "3ed62cfb",
   "metadata": {},
   "outputs": [
    {
     "name": "stdout",
     "output_type": "stream",
     "text": [
      "7\n",
      "14\n",
      "21\n",
      "28\n",
      "35\n",
      "42\n",
      "49\n",
      "56\n",
      "63\n",
      "70\n",
      "77\n",
      "84\n",
      "91\n",
      "98\n"
     ]
    }
   ],
   "source": [
    "def cl(i):\n",
    "    for j in range(1,i+1):\n",
    "        if j%7==0:\n",
    "            print(j)\n",
    "cl(100)"
   ]
  },
  {
   "cell_type": "code",
   "execution_count": null,
   "id": "91ab6f7a",
   "metadata": {},
   "outputs": [],
   "source": []
  },
  {
   "cell_type": "code",
   "execution_count": null,
   "id": "5aab16d4",
   "metadata": {},
   "outputs": [],
   "source": []
  },
  {
   "cell_type": "code",
   "execution_count": null,
   "id": "c7bca055",
   "metadata": {},
   "outputs": [],
   "source": []
  },
  {
   "cell_type": "code",
   "execution_count": null,
   "id": "f27bc442",
   "metadata": {},
   "outputs": [],
   "source": []
  },
  {
   "cell_type": "code",
   "execution_count": null,
   "id": "8d3d4c30",
   "metadata": {},
   "outputs": [],
   "source": []
  },
  {
   "cell_type": "code",
   "execution_count": null,
   "id": "cec4c55c",
   "metadata": {},
   "outputs": [],
   "source": [
    "\n"
   ]
  },
  {
   "cell_type": "code",
   "execution_count": null,
   "id": "c16b0158",
   "metadata": {},
   "outputs": [],
   "source": []
  },
  {
   "cell_type": "code",
   "execution_count": null,
   "id": "f649788d",
   "metadata": {},
   "outputs": [],
   "source": []
  },
  {
   "cell_type": "code",
   "execution_count": null,
   "id": "ba084901",
   "metadata": {},
   "outputs": [],
   "source": []
  }
 ],
 "metadata": {
  "kernelspec": {
   "display_name": "Python 3 (ipykernel)",
   "language": "python",
   "name": "python3"
  },
  "language_info": {
   "codemirror_mode": {
    "name": "ipython",
    "version": 3
   },
   "file_extension": ".py",
   "mimetype": "text/x-python",
   "name": "python",
   "nbconvert_exporter": "python",
   "pygments_lexer": "ipython3",
   "version": "3.9.7"
  }
 },
 "nbformat": 4,
 "nbformat_minor": 5
}
