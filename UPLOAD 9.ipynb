{
 "cells": [
  {
   "cell_type": "markdown",
   "id": "89805e22",
   "metadata": {},
   "source": [
    "Q17. A website requires the users to input username and password to register. Write a program to check the validity of password input by users. \n",
    "Following are the criteria for checking the password: \n",
    "1. At least 1 letter between [a-z] \n",
    "2. At least 1 number between [0-9] \n",
    "1. At least 1 letter between [A-Z] \n",
    "3. At least 1 character from [$#@] \n",
    "4. Minimum length of transaction password: 6 \n",
    "5. Maximum length of transaction password: 12 \n",
    "Your program should accept a sequence of comma separated passwords and will check them according to the above criteria. Passwords that match the criteria are to be printed, each separated by a comma. \n",
    "If the following passwords are given as input to the program: ABd1234@1,a F1#,2w3E*,2We3345 \n",
    "Then, the output of the program should be: ABd1234@1 \n"
   ]
  },
  {
   "cell_type": "code",
   "execution_count": 2,
   "id": "cbde2f39",
   "metadata": {},
   "outputs": [
    {
     "name": "stdout",
     "output_type": "stream",
     "text": [
      "ENTER THE PASSWORD:weeHJK56%$ RTEGEGE3435$%43 %^$ewrr3224324 4332^%^%sdssds\n",
      "weeHJK56%$ VALID\n",
      "RTEGEGE3435$%43 INVALID\n",
      "%^$ewrr3224324 INVALID\n",
      "4332^%^%sdssds INVALID\n"
     ]
    }
   ],
   "source": [
    "p=input(\"ENTER THE PASSWORD:\").split()\n",
    "for i in p:\n",
    "    u=0\n",
    "    l=0\n",
    "    d=0\n",
    "    s=0\n",
    "    for j in i:\n",
    "        if j.isupper():\n",
    "            u=u+1\n",
    "        elif j.islower():\n",
    "            l=l+1\n",
    "        elif j.isdigit():\n",
    "            d=d+1\n",
    "        else:\n",
    "            s=s+1\n",
    "    if u>0 and l>0 and d>0 and s>0 and 6<len(i)<=12:\n",
    "        print(i,\"VALID\")\n",
    "    else:\n",
    "        print(i,\"INVALID\")"
   ]
  },
  {
   "cell_type": "markdown",
   "id": "3746d60b",
   "metadata": {},
   "source": []
  },
  {
   "cell_type": "code",
   "execution_count": null,
   "id": "3ed62cfb",
   "metadata": {},
   "outputs": [],
   "source": []
  },
  {
   "cell_type": "code",
   "execution_count": null,
   "id": "91ab6f7a",
   "metadata": {},
   "outputs": [],
   "source": []
  },
  {
   "cell_type": "code",
   "execution_count": null,
   "id": "5aab16d4",
   "metadata": {},
   "outputs": [],
   "source": []
  },
  {
   "cell_type": "code",
   "execution_count": null,
   "id": "c7bca055",
   "metadata": {},
   "outputs": [],
   "source": []
  },
  {
   "cell_type": "code",
   "execution_count": null,
   "id": "f27bc442",
   "metadata": {},
   "outputs": [],
   "source": []
  },
  {
   "cell_type": "code",
   "execution_count": null,
   "id": "8d3d4c30",
   "metadata": {},
   "outputs": [],
   "source": []
  },
  {
   "cell_type": "code",
   "execution_count": null,
   "id": "cec4c55c",
   "metadata": {},
   "outputs": [],
   "source": [
    "\n"
   ]
  },
  {
   "cell_type": "code",
   "execution_count": null,
   "id": "c16b0158",
   "metadata": {},
   "outputs": [],
   "source": []
  },
  {
   "cell_type": "code",
   "execution_count": null,
   "id": "f649788d",
   "metadata": {},
   "outputs": [],
   "source": []
  },
  {
   "cell_type": "code",
   "execution_count": null,
   "id": "ba084901",
   "metadata": {},
   "outputs": [],
   "source": []
  }
 ],
 "metadata": {
  "kernelspec": {
   "display_name": "Python 3 (ipykernel)",
   "language": "python",
   "name": "python3"
  },
  "language_info": {
   "codemirror_mode": {
    "name": "ipython",
    "version": 3
   },
   "file_extension": ".py",
   "mimetype": "text/x-python",
   "name": "python",
   "nbconvert_exporter": "python",
   "pygments_lexer": "ipython3",
   "version": "3.9.7"
  }
 },
 "nbformat": 4,
 "nbformat_minor": 5
}
