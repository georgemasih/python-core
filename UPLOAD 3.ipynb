{
 "cells": [
  {
   "cell_type": "markdown",
   "id": "a859aa6d",
   "metadata": {},
   "source": [
    "Q5. Write a program which takes 2 digits, X,Y as input and generates a 2-dimensional array. The element value in the i-th row and j-th column of the array should be i*j. \n"
   ]
  },
  {
   "cell_type": "code",
   "execution_count": 3,
   "id": "3efd3ea4",
   "metadata": {},
   "outputs": [],
   "source": [
    "import numpy as np"
   ]
  },
  {
   "cell_type": "code",
   "execution_count": null,
   "id": "f922bc67",
   "metadata": {},
   "outputs": [],
   "source": [
    "x=np.array([input().split()])\n",
    "y=np.array([input().split()])\n",
    "x,y\n",
    "x=np.array(x,dtype=int)\n",
    "y=np.array(y,dtype=int)\n",
    "x,y"
   ]
  },
  {
   "cell_type": "markdown",
   "id": "e2df68a3",
   "metadata": {},
   "source": [
    "Q6. Write a program that accepts a comma separated sequence of words as input and prints the words in a comma-separated sequence after sorting them alphabetically. \n",
    "Suppose the input is supplied to the program: without, hello, bag, world \n",
    "Then, the output should be: bag, hello, without, world \n",
    "Hints: In case of input data being supplied to the question, it should be assumed to be a console input. \n"
   ]
  },
  {
   "cell_type": "code",
   "execution_count": 89,
   "id": "c7bca055",
   "metadata": {},
   "outputs": [
    {
     "name": "stdout",
     "output_type": "stream",
     "text": [
      "bag,hello,without,world,"
     ]
    }
   ],
   "source": [
    "s=\"without,hello,bag,world\"\n",
    "l=s.split(\",\")\n",
    "l.sort()\n",
    "for i in l:\n",
    "    print(i,end=\",\")"
   ]
  },
  {
   "cell_type": "code",
   "execution_count": null,
   "id": "f27bc442",
   "metadata": {},
   "outputs": [],
   "source": []
  },
  {
   "cell_type": "code",
   "execution_count": null,
   "id": "8d3d4c30",
   "metadata": {},
   "outputs": [],
   "source": []
  },
  {
   "cell_type": "code",
   "execution_count": null,
   "id": "cec4c55c",
   "metadata": {},
   "outputs": [],
   "source": [
    "\n"
   ]
  },
  {
   "cell_type": "code",
   "execution_count": null,
   "id": "c16b0158",
   "metadata": {},
   "outputs": [],
   "source": []
  },
  {
   "cell_type": "code",
   "execution_count": null,
   "id": "f649788d",
   "metadata": {},
   "outputs": [],
   "source": []
  },
  {
   "cell_type": "code",
   "execution_count": null,
   "id": "ba084901",
   "metadata": {},
   "outputs": [],
   "source": []
  }
 ],
 "metadata": {
  "kernelspec": {
   "display_name": "Python 3 (ipykernel)",
   "language": "python",
   "name": "python3"
  },
  "language_info": {
   "codemirror_mode": {
    "name": "ipython",
    "version": 3
   },
   "file_extension": ".py",
   "mimetype": "text/x-python",
   "name": "python",
   "nbconvert_exporter": "python",
   "pygments_lexer": "ipython3",
   "version": "3.9.7"
  }
 },
 "nbformat": 4,
 "nbformat_minor": 5
}
