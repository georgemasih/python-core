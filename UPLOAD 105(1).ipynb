{
 "cells": [
  {
   "cell_type": "markdown",
   "id": "90b53a57",
   "metadata": {},
   "source": [
    "Q1.WAP to create a function says good morning name that contain a int it else hello ."
   ]
  },
  {
   "cell_type": "code",
   "execution_count": 2,
   "id": "b3a295ed",
   "metadata": {},
   "outputs": [
    {
     "name": "stdout",
     "output_type": "stream",
     "text": [
      "enter the name:neha golu priya george\n",
      "good morning neha\n",
      "hello golu\n",
      "good morning priya\n",
      "hello george\n"
     ]
    }
   ],
   "source": [
    "def greed():\n",
    "    n=input(\"enter the name:\").split()\n",
    "    for i in n:\n",
    "        if \"a\" in i:\n",
    "            print(\"good morning\",i)\n",
    "        else:\n",
    "            print(\"hello\",i)\n",
    "greed()\n",
    "    "
   ]
  },
  {
   "cell_type": "code",
   "execution_count": null,
   "id": "55d5b099",
   "metadata": {},
   "outputs": [],
   "source": []
  }
 ],
 "metadata": {
  "kernelspec": {
   "display_name": "Python 3 (ipykernel)",
   "language": "python",
   "name": "python3"
  },
  "language_info": {
   "codemirror_mode": {
    "name": "ipython",
    "version": 3
   },
   "file_extension": ".py",
   "mimetype": "text/x-python",
   "name": "python",
   "nbconvert_exporter": "python",
   "pygments_lexer": "ipython3",
   "version": "3.9.7"
  }
 },
 "nbformat": 4,
 "nbformat_minor": 5
}
