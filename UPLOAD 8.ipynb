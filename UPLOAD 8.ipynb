{
 "cells": [
  {
   "cell_type": "markdown",
   "id": "5ad674b5",
   "metadata": {},
   "source": [
    "Q15. Use a list comprehension to square each odd number in a list. The list is input by a sequence of comma-separated numbers. \n",
    "Suppose the input is supplied to the program: 1,2,3,4,5,6,7,8,9 \n",
    "Then, the output should be: 1, 3, 5, 7, 9 \n"
   ]
  },
  {
   "cell_type": "code",
   "execution_count": 7,
   "id": "cbde2f39",
   "metadata": {},
   "outputs": [
    {
     "name": "stdout",
     "output_type": "stream",
     "text": [
      "1,3,5,7,9,"
     ]
    }
   ],
   "source": [
    "l=[1,2,3,4,5,6,7,8,9]\n",
    "for i in l:\n",
    "    if i%2!=0:\n",
    "        print(i,end=\",\")\n",
    "    "
   ]
  },
  {
   "cell_type": "markdown",
   "id": "3746d60b",
   "metadata": {},
   "source": [
    "Q16. Write a program that computes the net amount of a bank account based a transaction log from console input. The transaction log format is shown as following: \n",
    "D 100 \n",
    "W 200 \n",
    "--D means deposit while W means withdrawal. \n",
    "Suppose the input is supplied to the program: \n",
    "\n",
    "\n",
    "D 300\n",
    "D 300 \n",
    "D 100 \n",
    "W 200\n",
    "Then, the output should be: 500 \n"
   ]
  },
  {
   "cell_type": "code",
   "execution_count": 17,
   "id": "3ed62cfb",
   "metadata": {},
   "outputs": [
    {
     "name": "stdout",
     "output_type": "stream",
     "text": [
      "300 300 100\n",
      "TOTAL DEPOSITE AMOUNT 700\n",
      "200\n",
      "TOTAL WITHDRAWAL AMOUNT 200\n",
      "TOTAL AMOUNT REMAINING 500\n"
     ]
    }
   ],
   "source": [
    "d=input(\"\").split()\n",
    "s=0\n",
    "l=[]\n",
    "for i in d:\n",
    "    l.append(i)\n",
    "l\n",
    "for j in l:\n",
    "    j=int(j)\n",
    "    s=s+j\n",
    "print(\"TOTAL DEPOSITE AMOUNT\",s)\n",
    "w=input(\"\").split()\n",
    "c=0\n",
    "l1=[]\n",
    "for a in w:\n",
    "    l1.append(a)\n",
    "l1\n",
    "for b in l1:\n",
    "    b=int(b)\n",
    "    c=c+b\n",
    "print(\"TOTAL WITHDRAWAL AMOUNT\",c)\n",
    "total=s-c\n",
    "print(\"TOTAL AMOUNT REMAINING\",total)"
   ]
  },
  {
   "cell_type": "code",
   "execution_count": null,
   "id": "91ab6f7a",
   "metadata": {},
   "outputs": [],
   "source": []
  },
  {
   "cell_type": "code",
   "execution_count": null,
   "id": "5aab16d4",
   "metadata": {},
   "outputs": [],
   "source": []
  },
  {
   "cell_type": "code",
   "execution_count": null,
   "id": "c7bca055",
   "metadata": {},
   "outputs": [],
   "source": []
  },
  {
   "cell_type": "code",
   "execution_count": null,
   "id": "f27bc442",
   "metadata": {},
   "outputs": [],
   "source": []
  },
  {
   "cell_type": "code",
   "execution_count": null,
   "id": "8d3d4c30",
   "metadata": {},
   "outputs": [],
   "source": []
  },
  {
   "cell_type": "code",
   "execution_count": null,
   "id": "cec4c55c",
   "metadata": {},
   "outputs": [],
   "source": [
    "\n"
   ]
  },
  {
   "cell_type": "code",
   "execution_count": null,
   "id": "c16b0158",
   "metadata": {},
   "outputs": [],
   "source": []
  },
  {
   "cell_type": "code",
   "execution_count": null,
   "id": "f649788d",
   "metadata": {},
   "outputs": [],
   "source": []
  },
  {
   "cell_type": "code",
   "execution_count": null,
   "id": "ba084901",
   "metadata": {},
   "outputs": [],
   "source": []
  }
 ],
 "metadata": {
  "kernelspec": {
   "display_name": "Python 3 (ipykernel)",
   "language": "python",
   "name": "python3"
  },
  "language_info": {
   "codemirror_mode": {
    "name": "ipython",
    "version": 3
   },
   "file_extension": ".py",
   "mimetype": "text/x-python",
   "name": "python",
   "nbconvert_exporter": "python",
   "pygments_lexer": "ipython3",
   "version": "3.9.7"
  }
 },
 "nbformat": 4,
 "nbformat_minor": 5
}
