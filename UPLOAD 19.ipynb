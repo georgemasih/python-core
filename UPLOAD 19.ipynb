{
 "cells": [
  {
   "cell_type": "markdown",
   "id": "89805e22",
   "metadata": {},
   "source": [
    "Q36. Define a function which can generate a list where the values are square of numbers between 1 and 20 (both included). Then the function needs to print the last 5 elements in the list. \n"
   ]
  },
  {
   "cell_type": "code",
   "execution_count": 1,
   "id": "0473543c",
   "metadata": {},
   "outputs": [
    {
     "name": "stdout",
     "output_type": "stream",
     "text": [
      "[225, 256, 289, 324, 361, 400]\n"
     ]
    }
   ],
   "source": [
    "l=[]\n",
    "def gen():\n",
    "    for i in range(1,21):\n",
    "        if i>14:\n",
    "            l.append(i**2)\n",
    "    print(l)\n",
    "gen()"
   ]
  },
  {
   "cell_type": "markdown",
   "id": "6ec07fe2",
   "metadata": {},
   "source": [
    "Q37. Define a function which can generate and print a tuple where the value are square of numbers between 1 and 20 (both included). "
   ]
  },
  {
   "cell_type": "code",
   "execution_count": 2,
   "id": "76853a19",
   "metadata": {},
   "outputs": [
    {
     "name": "stdout",
     "output_type": "stream",
     "text": [
      "(1, 4, 9, 16, 25, 36, 49, 64, 81, 100, 121, 144, 169, 196, 225, 256, 289, 324, 361, 400)\n"
     ]
    }
   ],
   "source": [
    "l=[]\n",
    "def tup():\n",
    "    for i in range(1,21):\n",
    "        l.append(i**2)\n",
    "    t=tuple(l)\n",
    "    print(t)\n",
    "tup()\n",
    " "
   ]
  },
  {
   "cell_type": "code",
   "execution_count": null,
   "id": "446dbf49",
   "metadata": {},
   "outputs": [],
   "source": []
  },
  {
   "cell_type": "markdown",
   "id": "9c279fb7",
   "metadata": {},
   "source": []
  },
  {
   "cell_type": "markdown",
   "id": "18c88505",
   "metadata": {},
   "source": []
  },
  {
   "cell_type": "code",
   "execution_count": null,
   "id": "f1175fdc",
   "metadata": {},
   "outputs": [],
   "source": []
  },
  {
   "cell_type": "code",
   "execution_count": null,
   "id": "832fbb95",
   "metadata": {},
   "outputs": [],
   "source": []
  },
  {
   "cell_type": "code",
   "execution_count": null,
   "id": "f27bc442",
   "metadata": {},
   "outputs": [],
   "source": []
  },
  {
   "cell_type": "code",
   "execution_count": null,
   "id": "8d3d4c30",
   "metadata": {},
   "outputs": [],
   "source": []
  },
  {
   "cell_type": "code",
   "execution_count": null,
   "id": "aa6c4313",
   "metadata": {},
   "outputs": [],
   "source": []
  },
  {
   "cell_type": "code",
   "execution_count": null,
   "id": "cec4c55c",
   "metadata": {},
   "outputs": [],
   "source": []
  },
  {
   "cell_type": "code",
   "execution_count": null,
   "id": "c16b0158",
   "metadata": {},
   "outputs": [],
   "source": []
  },
  {
   "cell_type": "code",
   "execution_count": null,
   "id": "f649788d",
   "metadata": {},
   "outputs": [],
   "source": []
  },
  {
   "cell_type": "code",
   "execution_count": null,
   "id": "ba084901",
   "metadata": {},
   "outputs": [],
   "source": []
  }
 ],
 "metadata": {
  "kernelspec": {
   "display_name": "Python 3 (ipykernel)",
   "language": "python",
   "name": "python3"
  },
  "language_info": {
   "codemirror_mode": {
    "name": "ipython",
    "version": 3
   },
   "file_extension": ".py",
   "mimetype": "text/x-python",
   "name": "python",
   "nbconvert_exporter": "python",
   "pygments_lexer": "ipython3",
   "version": "3.9.7"
  }
 },
 "nbformat": 4,
 "nbformat_minor": 5
}
