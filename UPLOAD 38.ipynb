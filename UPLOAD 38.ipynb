{
 "cells": [
  {
   "cell_type": "markdown",
   "id": "a859aa6d",
   "metadata": {},
   "source": [
    "Q11.Given an integer, n, perform the following conditional actions:\n",
    "\n",
    "If  n is odd, print Weird\n",
    "If  n is even and in the inclusive range of  2 to 5, print Not Weird\n",
    "If  n is even and in the inclusive range of  6 to 20, print Weird\n",
    "If  n is even and greater than  20 , print Not Weird\n"
   ]
  },
  {
   "cell_type": "code",
   "execution_count": 1,
   "id": "cbde2f39",
   "metadata": {},
   "outputs": [
    {
     "name": "stdout",
     "output_type": "stream",
     "text": [
      "enter the no:5\n",
      "weird 5\n"
     ]
    }
   ],
   "source": [
    "n=int(input(\"enter the no:\"))\n",
    "if n%2!=0:\n",
    "    print(\"weird\",n)\n",
    "elif n%2==0 and 2<n<5:\n",
    "    print(\"not weird\",n)\n",
    "elif n%2==0 and 6<n<20:\n",
    "    print(\"weird\",n)\n",
    "elif n%2==0 and n>20:\n",
    "    print(\"not weird\")"
   ]
  },
  {
   "cell_type": "markdown",
   "id": "810a0fb7",
   "metadata": {},
   "source": [
    "Q12. write a function to count the no. of elements in a list .and if the count of element is greater than 6 check print the element and say lengthy ."
   ]
  },
  {
   "cell_type": "code",
   "execution_count": 2,
   "id": "3ed62cfb",
   "metadata": {},
   "outputs": [
    {
     "name": "stdout",
     "output_type": "stream",
     "text": [
      "7 lengthy\n"
     ]
    }
   ],
   "source": [
    "def count(l):\n",
    "    c=0\n",
    "    for i in l:\n",
    "        c=c+1\n",
    "    if c>6:\n",
    "        print(c,\"lengthy\")\n",
    "count([12,3,6,79,45,29,5])\n",
    "    "
   ]
  },
  {
   "cell_type": "code",
   "execution_count": null,
   "id": "91ab6f7a",
   "metadata": {},
   "outputs": [],
   "source": []
  },
  {
   "cell_type": "code",
   "execution_count": null,
   "id": "5aab16d4",
   "metadata": {},
   "outputs": [],
   "source": []
  },
  {
   "cell_type": "code",
   "execution_count": null,
   "id": "c7bca055",
   "metadata": {},
   "outputs": [],
   "source": []
  },
  {
   "cell_type": "code",
   "execution_count": null,
   "id": "f27bc442",
   "metadata": {},
   "outputs": [],
   "source": []
  },
  {
   "cell_type": "code",
   "execution_count": null,
   "id": "8d3d4c30",
   "metadata": {},
   "outputs": [],
   "source": []
  },
  {
   "cell_type": "code",
   "execution_count": null,
   "id": "cec4c55c",
   "metadata": {},
   "outputs": [],
   "source": [
    "\n"
   ]
  },
  {
   "cell_type": "code",
   "execution_count": null,
   "id": "c16b0158",
   "metadata": {},
   "outputs": [],
   "source": []
  },
  {
   "cell_type": "code",
   "execution_count": null,
   "id": "f649788d",
   "metadata": {},
   "outputs": [],
   "source": []
  },
  {
   "cell_type": "code",
   "execution_count": null,
   "id": "ba084901",
   "metadata": {},
   "outputs": [],
   "source": []
  }
 ],
 "metadata": {
  "kernelspec": {
   "display_name": "Python 3 (ipykernel)",
   "language": "python",
   "name": "python3"
  },
  "language_info": {
   "codemirror_mode": {
    "name": "ipython",
    "version": 3
   },
   "file_extension": ".py",
   "mimetype": "text/x-python",
   "name": "python",
   "nbconvert_exporter": "python",
   "pygments_lexer": "ipython3",
   "version": "3.9.7"
  }
 },
 "nbformat": 4,
 "nbformat_minor": 5
}
