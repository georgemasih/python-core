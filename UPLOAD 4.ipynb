{
 "cells": [
  {
   "cell_type": "markdown",
   "id": "a859aa6d",
   "metadata": {},
   "source": [
    "Q7. Write a program that accepts sequence of lines as input and prints the lines after making all characters in the sentence capitalized.\n",
    "\n",
    "Suppose the input is supplied to the program: Hello world \n",
    "Practice makes perfect\n",
    "\n",
    "Then, the output should be: HELLO WORLD \n",
    "PRACTICE MAKES PERFECT \n"
   ]
  },
  {
   "cell_type": "code",
   "execution_count": 7,
   "id": "3efd3ea4",
   "metadata": {},
   "outputs": [
    {
     "name": "stdout",
     "output_type": "stream",
     "text": [
      " Hello world practice makes perfect\n"
     ]
    },
    {
     "data": {
      "text/plain": [
       "' HELLO WORLD PRACTICE MAKES PERFECT'"
      ]
     },
     "execution_count": 7,
     "metadata": {},
     "output_type": "execute_result"
    }
   ],
   "source": [
    "n=input(\"\")\n",
    "n.upper()"
   ]
  },
  {
   "cell_type": "markdown",
   "id": "65f10cf1",
   "metadata": {},
   "source": [
    "Q8. Write a program that accepts a sequence of whitespace separated words as input and prints the words after removing all duplicate words and sorting them alphanumerically.\n",
    "\n",
    "\n",
    "Suppose the input is supplied to the program: hello world and practice makes perfect and hello world again \n",
    "Then, \n",
    "\n",
    "the output should be: again and hello makes perfect practice world "
   ]
  },
  {
   "cell_type": "code",
   "execution_count": 93,
   "id": "91ab6f7a",
   "metadata": {},
   "outputs": [
    {
     "name": "stdout",
     "output_type": "stream",
     "text": [
      "again and hello makes perfect practice world "
     ]
    }
   ],
   "source": [
    "s=\"hello world and practice makes perfect and hello world again\"\n",
    "l=s.split()\n",
    "l.sort()\n",
    "l1=[]\n",
    "for i in l:\n",
    "    if i not in l1:\n",
    "        l1.append(i)\n",
    "for j in l1:\n",
    "    print(j,end=\" \")\n",
    "\n",
    "    "
   ]
  },
  {
   "cell_type": "code",
   "execution_count": null,
   "id": "5aab16d4",
   "metadata": {},
   "outputs": [],
   "source": []
  },
  {
   "cell_type": "code",
   "execution_count": null,
   "id": "c7bca055",
   "metadata": {},
   "outputs": [],
   "source": []
  },
  {
   "cell_type": "code",
   "execution_count": null,
   "id": "f27bc442",
   "metadata": {},
   "outputs": [],
   "source": []
  },
  {
   "cell_type": "code",
   "execution_count": null,
   "id": "8d3d4c30",
   "metadata": {},
   "outputs": [],
   "source": []
  },
  {
   "cell_type": "code",
   "execution_count": null,
   "id": "cec4c55c",
   "metadata": {},
   "outputs": [],
   "source": [
    "\n"
   ]
  },
  {
   "cell_type": "code",
   "execution_count": null,
   "id": "c16b0158",
   "metadata": {},
   "outputs": [],
   "source": []
  },
  {
   "cell_type": "code",
   "execution_count": null,
   "id": "f649788d",
   "metadata": {},
   "outputs": [],
   "source": []
  },
  {
   "cell_type": "code",
   "execution_count": null,
   "id": "ba084901",
   "metadata": {},
   "outputs": [],
   "source": []
  }
 ],
 "metadata": {
  "kernelspec": {
   "display_name": "Python 3 (ipykernel)",
   "language": "python",
   "name": "python3"
  },
  "language_info": {
   "codemirror_mode": {
    "name": "ipython",
    "version": 3
   },
   "file_extension": ".py",
   "mimetype": "text/x-python",
   "name": "python",
   "nbconvert_exporter": "python",
   "pygments_lexer": "ipython3",
   "version": "3.9.7"
  }
 },
 "nbformat": 4,
 "nbformat_minor": 5
}
