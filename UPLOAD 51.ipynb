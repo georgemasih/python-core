{
 "cells": [
  {
   "cell_type": "markdown",
   "id": "80bf8d96",
   "metadata": {},
   "source": [
    "Q1.you are the owner of a reastraunt and menu: 1)pizza 2)burgar\n",
    "\n",
    "1)pizza .veg .non-veg -size=1)regular 2)medium 3)large -topping=1)paneer 2)chicken sausages\n"
   ]
  },
  {
   "cell_type": "code",
   "execution_count": 3,
   "id": "c69b3491",
   "metadata": {},
   "outputs": [
    {
     "name": "stdout",
     "output_type": "stream",
     "text": [
      "enter the menu \n",
      " pizza \n",
      " burgar \n",
      ":pizza\n",
      "\n",
      " paneer \n",
      " chicken \n",
      "paneer\n",
      "\n",
      " large \n",
      " median \n",
      " smalllarge\n",
      "360\n"
     ]
    }
   ],
   "source": [
    "menu=input(\"enter the menu \\n pizza \\n burgar \\n:\")\n",
    "if menu==\"pizza\":\n",
    "    topping=input(\"\\n paneer \\n chicken \\n\")\n",
    "    if topping==\"paneer\":\n",
    "        size=input(\"\\n large \\n median \\n small\")\n",
    "        if size==\"large\":\n",
    "            print(\"360\")\n",
    "        elif size==\"median\":\n",
    "            print(\"300\")\n",
    "        elif size==\"small\":\n",
    "            print(\"200\")\n",
    "    elif topping==\"chicken\":\n",
    "        size=input(\"\\n large \\n median \\n small \\n\")\n",
    "        if size==\"large\":\n",
    "            print(\"500\")\n",
    "        elif size==\"median\":\n",
    "            print(\"400\")\n",
    "        elif size==\"small\":\n",
    "            print(\"300\")\n",
    "elif menu==\"burgar\":\n",
    "    topping=input(\"\\n paneer \\n chicken \\n\")\n",
    "    if topping==\"paneer\":\n",
    "        print(\"190\")\n",
    "    elif topping==\"chicken\":\n",
    "        print(\"250\")"
   ]
  },
  {
   "cell_type": "markdown",
   "id": "87449dbd",
   "metadata": {},
   "source": [
    "Q2.WAP to make zero index as key and the word as value."
   ]
  },
  {
   "cell_type": "code",
   "execution_count": 2,
   "id": "0c7507b2",
   "metadata": {},
   "outputs": [
    {
     "data": {
      "text/plain": [
       "{'K': 'kiwi', 'O': 'orange', 'A': 'apple', 'M': 'mango'}"
      ]
     },
     "execution_count": 2,
     "metadata": {},
     "output_type": "execute_result"
    }
   ],
   "source": [
    "s=[\"kiwi\",\"orange\",\"apple\",\"mango\"]\n",
    "d={}\n",
    "for i in s:\n",
    "    d[i.upper()[0]]=i\n",
    "d"
   ]
  },
  {
   "cell_type": "code",
   "execution_count": null,
   "id": "3e9cec59",
   "metadata": {},
   "outputs": [],
   "source": []
  },
  {
   "cell_type": "code",
   "execution_count": null,
   "id": "c36690df",
   "metadata": {},
   "outputs": [],
   "source": []
  },
  {
   "cell_type": "code",
   "execution_count": null,
   "id": "14a831fa",
   "metadata": {},
   "outputs": [],
   "source": []
  },
  {
   "cell_type": "code",
   "execution_count": null,
   "id": "fc278c3d",
   "metadata": {},
   "outputs": [],
   "source": []
  },
  {
   "cell_type": "code",
   "execution_count": null,
   "id": "35684b26",
   "metadata": {},
   "outputs": [],
   "source": []
  },
  {
   "cell_type": "code",
   "execution_count": null,
   "id": "f2de36f1",
   "metadata": {},
   "outputs": [],
   "source": []
  },
  {
   "cell_type": "code",
   "execution_count": null,
   "id": "a0de00e9",
   "metadata": {},
   "outputs": [],
   "source": []
  },
  {
   "cell_type": "code",
   "execution_count": null,
   "id": "dfbfbfc3",
   "metadata": {},
   "outputs": [],
   "source": []
  },
  {
   "cell_type": "code",
   "execution_count": null,
   "id": "a18e3422",
   "metadata": {},
   "outputs": [],
   "source": []
  },
  {
   "cell_type": "code",
   "execution_count": 100,
   "id": "1cbb8c14",
   "metadata": {},
   "outputs": [],
   "source": []
  },
  {
   "cell_type": "code",
   "execution_count": null,
   "id": "4ef7183b",
   "metadata": {},
   "outputs": [],
   "source": []
  },
  {
   "cell_type": "code",
   "execution_count": 3,
   "id": "3327e71a",
   "metadata": {},
   "outputs": [],
   "source": []
  },
  {
   "cell_type": "code",
   "execution_count": null,
   "id": "f1175fdc",
   "metadata": {},
   "outputs": [],
   "source": []
  },
  {
   "cell_type": "code",
   "execution_count": null,
   "id": "eb692fe9",
   "metadata": {},
   "outputs": [],
   "source": []
  },
  {
   "cell_type": "code",
   "execution_count": null,
   "id": "f27bc442",
   "metadata": {},
   "outputs": [],
   "source": []
  },
  {
   "cell_type": "code",
   "execution_count": null,
   "id": "8d3d4c30",
   "metadata": {},
   "outputs": [],
   "source": []
  },
  {
   "cell_type": "code",
   "execution_count": null,
   "id": "aa6c4313",
   "metadata": {},
   "outputs": [],
   "source": []
  },
  {
   "cell_type": "code",
   "execution_count": null,
   "id": "cec4c55c",
   "metadata": {},
   "outputs": [],
   "source": []
  },
  {
   "cell_type": "code",
   "execution_count": null,
   "id": "c16b0158",
   "metadata": {},
   "outputs": [],
   "source": []
  },
  {
   "cell_type": "code",
   "execution_count": null,
   "id": "f649788d",
   "metadata": {},
   "outputs": [],
   "source": []
  },
  {
   "cell_type": "code",
   "execution_count": null,
   "id": "ba084901",
   "metadata": {},
   "outputs": [],
   "source": []
  }
 ],
 "metadata": {
  "kernelspec": {
   "display_name": "Python 3 (ipykernel)",
   "language": "python",
   "name": "python3"
  },
  "language_info": {
   "codemirror_mode": {
    "name": "ipython",
    "version": 3
   },
   "file_extension": ".py",
   "mimetype": "text/x-python",
   "name": "python",
   "nbconvert_exporter": "python",
   "pygments_lexer": "ipython3",
   "version": "3.9.7"
  }
 },
 "nbformat": 4,
 "nbformat_minor": 5
}
