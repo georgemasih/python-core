{
 "cells": [
  {
   "cell_type": "markdown",
   "id": "80bf8d96",
   "metadata": {},
   "source": [
    "Q1.Given the participants' score sheet for your University Sports Day, you are required to find the runner-up score. You are given scores. Store them in a list and find the score of the runner-up. "
   ]
  },
  {
   "cell_type": "code",
   "execution_count": 2,
   "id": "ca615e52",
   "metadata": {},
   "outputs": [
    {
     "name": "stdout",
     "output_type": "stream",
     "text": [
      "6 5 3 4 1 2\n",
      "['1', '2', '3', '4', '5', '6']\n",
      "5\n"
     ]
    }
   ],
   "source": [
    "n=input().split()\n",
    "n.sort()\n",
    "print(n)\n",
    "print(n[-2])"
   ]
  },
  {
   "cell_type": "markdown",
   "id": "9ae4cde4",
   "metadata": {},
   "source": [
    "Q2.Let's learn about list comprehensions! You are given three integers  and  representing the dimensions of a cuboid along with an integer . Print a list of all possible coordinates given by  on a 3D grid where the sum of  is not equal to . Here, . Please use list comprehensions rather than multiple loops, as a learning exercise.\n",
    "\n",
    "Example\n",
    "\n",
    "\n",
    "\n",
    "\n",
    "All permutations of  are:\n",
    ".\n",
    "\n",
    "Print an array of the elements that do not sum to .\n",
    "\n",
    "\n",
    "Input Format\n",
    "\n",
    "Four integers  and , each on a separate line.\n",
    "\n",
    "Constraints\n",
    "\n",
    "Print the list in lexicographic increasing order.\n",
    "\n",
    "Sample Input 0\n",
    "\n",
    "1\n",
    "1\n",
    "1\n",
    "2\n",
    "Sample Output 0\n",
    "\n",
    "[[0, 0, 0], [0, 0, 1], [0, 1, 0], [1, 0, 0], [1, 1, 1]]\n",
    "Explanation 0\n",
    "\n",
    "Each variable  and  will have values of  or . All permutations of lists in the form .\n",
    "Remove all arrays th…"
   ]
  },
  {
   "cell_type": "code",
   "execution_count": 3,
   "id": "3e9cec59",
   "metadata": {},
   "outputs": [
    {
     "name": "stdout",
     "output_type": "stream",
     "text": [
      "1\n",
      "1\n",
      "1\n",
      "1\n",
      "[[0, 0, 0], [0, 1, 1], [1, 0, 1], [1, 1, 0], [1, 1, 1]]\n"
     ]
    }
   ],
   "source": [
    "x=int(input())\n",
    "y=int(input())\n",
    "z=int(input())\n",
    "s=int(input())\n",
    "n=[[i,j,k]for i in range(x+1)for j in range(y+1)for k in range(z+1)if i+j+k!=s]\n",
    "print(n)"
   ]
  },
  {
   "cell_type": "markdown",
   "id": "89805e22",
   "metadata": {},
   "source": []
  },
  {
   "cell_type": "code",
   "execution_count": 2,
   "id": "fc278c3d",
   "metadata": {},
   "outputs": [],
   "source": []
  },
  {
   "cell_type": "code",
   "execution_count": null,
   "id": "35684b26",
   "metadata": {},
   "outputs": [],
   "source": []
  },
  {
   "cell_type": "markdown",
   "id": "5f0089a1",
   "metadata": {},
   "source": []
  },
  {
   "cell_type": "code",
   "execution_count": 4,
   "id": "a0de00e9",
   "metadata": {},
   "outputs": [],
   "source": []
  },
  {
   "cell_type": "code",
   "execution_count": null,
   "id": "a18e3422",
   "metadata": {},
   "outputs": [],
   "source": []
  },
  {
   "cell_type": "code",
   "execution_count": null,
   "id": "1cbb8c14",
   "metadata": {},
   "outputs": [],
   "source": []
  },
  {
   "cell_type": "code",
   "execution_count": null,
   "id": "4ef7183b",
   "metadata": {},
   "outputs": [],
   "source": []
  },
  {
   "cell_type": "code",
   "execution_count": 3,
   "id": "3327e71a",
   "metadata": {},
   "outputs": [],
   "source": []
  },
  {
   "cell_type": "code",
   "execution_count": null,
   "id": "f1175fdc",
   "metadata": {},
   "outputs": [],
   "source": []
  },
  {
   "cell_type": "code",
   "execution_count": null,
   "id": "eb692fe9",
   "metadata": {},
   "outputs": [],
   "source": []
  },
  {
   "cell_type": "code",
   "execution_count": null,
   "id": "f27bc442",
   "metadata": {},
   "outputs": [],
   "source": []
  },
  {
   "cell_type": "code",
   "execution_count": null,
   "id": "8d3d4c30",
   "metadata": {},
   "outputs": [],
   "source": []
  },
  {
   "cell_type": "code",
   "execution_count": null,
   "id": "aa6c4313",
   "metadata": {},
   "outputs": [],
   "source": []
  },
  {
   "cell_type": "code",
   "execution_count": null,
   "id": "cec4c55c",
   "metadata": {},
   "outputs": [],
   "source": []
  },
  {
   "cell_type": "code",
   "execution_count": null,
   "id": "c16b0158",
   "metadata": {},
   "outputs": [],
   "source": []
  },
  {
   "cell_type": "code",
   "execution_count": null,
   "id": "f649788d",
   "metadata": {},
   "outputs": [],
   "source": []
  },
  {
   "cell_type": "code",
   "execution_count": null,
   "id": "ba084901",
   "metadata": {},
   "outputs": [],
   "source": []
  }
 ],
 "metadata": {
  "kernelspec": {
   "display_name": "Python 3 (ipykernel)",
   "language": "python",
   "name": "python3"
  },
  "language_info": {
   "codemirror_mode": {
    "name": "ipython",
    "version": 3
   },
   "file_extension": ".py",
   "mimetype": "text/x-python",
   "name": "python",
   "nbconvert_exporter": "python",
   "pygments_lexer": "ipython3",
   "version": "3.9.7"
  }
 },
 "nbformat": 4,
 "nbformat_minor": 5
}
