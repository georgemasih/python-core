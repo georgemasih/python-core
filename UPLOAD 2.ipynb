{
 "cells": [
  {
   "cell_type": "markdown",
   "id": "a859aa6d",
   "metadata": {},
   "source": [
    "Q4. Write a program which accepts a sequence of comma-separated numbers from console and generate a list and a tuple which contains every number. \n",
    "Suppose the input is supplied to the program: 34, 67, 55, 33, 12, 98 \n",
    "Then, the output should be: \n",
    "['34', '67', '55', '33', '12', '98'] \n",
    "('34', '67', '55', '33', '12', '98') \n",
    "Hints: In case of input data being supplied to the question, it should be assumed to be a console input. tuple() method can convert list to tuple "
   ]
  },
  {
   "cell_type": "code",
   "execution_count": null,
   "id": "3efd3ea4",
   "metadata": {},
   "outputs": [],
   "source": [
    "s='34','67','55','33','12','98'\n",
    "a=tuple(s)\n",
    "b=list(s)\n",
    "print(a)\n",
    "print(b)\n"
   ]
  },
  {
   "cell_type": "markdown",
   "id": "494df2c2",
   "metadata": {},
   "source": [
    "Q5. Task\n",
    "Given an integer, n, perform the following conditional actions:\n",
    "\n",
    "If  n is odd, print Weird\n",
    "If  n is even and in the inclusive range of  2 to 5, print Not Weird\n",
    "If  n is even and in the inclusive range of  6 to 20, print Weird\n",
    "If  n is even and greater than  20 , print Not Weird\n"
   ]
  },
  {
   "cell_type": "code",
   "execution_count": null,
   "id": "2fedb665",
   "metadata": {},
   "outputs": [],
   "source": [
    "n=int(input(\"enter the no:\"))\n",
    "if n%2==0:\n",
    "    print(\"weird\",n)\n",
    "elif n%2==0 and 2<n<5:\n",
    "    print(\"not weird\",n)\n",
    "elif n%2==0 and 6<n<20:\n",
    "    print(\"weird\",n)\n",
    "elif n%2==0 and n>20:\n",
    "    print(\"not weird\")"
   ]
  }
 ],
 "metadata": {
  "kernelspec": {
   "display_name": "Python 3 (ipykernel)",
   "language": "python",
   "name": "python3"
  },
  "language_info": {
   "codemirror_mode": {
    "name": "ipython",
    "version": 3
   },
   "file_extension": ".py",
   "mimetype": "text/x-python",
   "name": "python",
   "nbconvert_exporter": "python",
   "pygments_lexer": "ipython3",
   "version": "3.9.7"
  }
 },
 "nbformat": 4,
 "nbformat_minor": 5
}
