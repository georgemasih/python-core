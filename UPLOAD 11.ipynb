{
 "cells": [
  {
   "cell_type": "markdown",
   "id": "89805e22",
   "metadata": {},
   "source": [
    "Q20. Write a program to compute the frequency of the words from the input. The output should output after sorting the key alphanumerically. \n",
    "Suppose the input is supplied to the program: \n",
    "New to Python or choosing between Python 2 and Python 3? Read Python 2 or Python 3. \n",
    "\n",
    "Then, the output should be:\n",
    "\n",
    "\n",
    "2:2\n",
    "\n",
    "3.:1\n",
    "\n",
    "3?:1\n",
    "\n",
    "New:1\n",
    "\n",
    "Python:5 \n",
    "\n",
    "Read:1\n",
    "\n",
    "and:1\n",
    "\n",
    "between:1\n",
    "\n",
    "choosing:1\n",
    "\n",
    "or:2\n",
    "\n",
    "to:1 \n"
   ]
  },
  {
   "cell_type": "code",
   "execution_count": 1,
   "id": "0473543c",
   "metadata": {},
   "outputs": [],
   "source": [
    "from collections import Counter"
   ]
  },
  {
   "cell_type": "code",
   "execution_count": 11,
   "id": "cbde2f39",
   "metadata": {},
   "outputs": [
    {
     "data": {
      "text/plain": [
       "Counter({'2': 2,\n",
       "         '3': 1,\n",
       "         '3?': 1,\n",
       "         'New': 1,\n",
       "         'Python': 5,\n",
       "         'Read': 1,\n",
       "         'and': 1,\n",
       "         'between': 1,\n",
       "         'choosing': 1,\n",
       "         'or': 2,\n",
       "         'to': 1})"
      ]
     },
     "execution_count": 11,
     "metadata": {},
     "output_type": "execute_result"
    }
   ],
   "source": [
    "#1 way \n",
    "s=\"New to Python or choosing between Python 2 and Python 3? Read Python 2 or Python 3\"\n",
    "l=s.split()\n",
    "l.sort()\n",
    "l\n",
    "Counter(l)"
   ]
  },
  {
   "cell_type": "code",
   "execution_count": 13,
   "id": "1ed1b189",
   "metadata": {},
   "outputs": [
    {
     "data": {
      "text/plain": [
       "{'2': 2,\n",
       " '3': 2,\n",
       " '3?': 1,\n",
       " 'New': 1,\n",
       " 'Python': 5,\n",
       " 'Read': 1,\n",
       " 'and': 1,\n",
       " 'between': 1,\n",
       " 'choosing': 1,\n",
       " 'or': 2,\n",
       " 'to': 1}"
      ]
     },
     "execution_count": 13,
     "metadata": {},
     "output_type": "execute_result"
    }
   ],
   "source": [
    "# 2 way\n",
    "s=\"New to Python or choosing between Python 2 and Python 3? Read Python 2 or Python 3\"\n",
    "l=s.split()\n",
    "l.sort()\n",
    "l\n",
    "d={}\n",
    "for i in l:\n",
    "    d[i]=s.count(i)\n",
    "d"
   ]
  },
  {
   "cell_type": "markdown",
   "id": "bd76057f",
   "metadata": {},
   "source": [
    "Q21. Write a method which can calculate square value of number \n",
    "Hints: Using the ** operator \n"
   ]
  },
  {
   "cell_type": "code",
   "execution_count": 16,
   "id": "91ab6f7a",
   "metadata": {},
   "outputs": [
    {
     "name": "stdout",
     "output_type": "stream",
     "text": [
      "ENTER THE INTEGER NO:5\n",
      "SQUARE OF INTEGER NO 25\n"
     ]
    }
   ],
   "source": [
    "n=int(input(\"ENTER THE INTEGER NO:\"))\n",
    "square1=n**2\n",
    "print(\"SQUARE OF INTEGER NO\",square1,)\n",
    "\n"
   ]
  },
  {
   "cell_type": "code",
   "execution_count": null,
   "id": "5aab16d4",
   "metadata": {},
   "outputs": [],
   "source": []
  },
  {
   "cell_type": "code",
   "execution_count": null,
   "id": "c7bca055",
   "metadata": {},
   "outputs": [],
   "source": []
  },
  {
   "cell_type": "code",
   "execution_count": null,
   "id": "f27bc442",
   "metadata": {},
   "outputs": [],
   "source": []
  },
  {
   "cell_type": "code",
   "execution_count": null,
   "id": "8d3d4c30",
   "metadata": {},
   "outputs": [],
   "source": []
  },
  {
   "cell_type": "code",
   "execution_count": null,
   "id": "cec4c55c",
   "metadata": {},
   "outputs": [],
   "source": [
    "\n"
   ]
  },
  {
   "cell_type": "code",
   "execution_count": null,
   "id": "c16b0158",
   "metadata": {},
   "outputs": [],
   "source": []
  },
  {
   "cell_type": "code",
   "execution_count": null,
   "id": "f649788d",
   "metadata": {},
   "outputs": [],
   "source": []
  },
  {
   "cell_type": "code",
   "execution_count": null,
   "id": "ba084901",
   "metadata": {},
   "outputs": [],
   "source": []
  }
 ],
 "metadata": {
  "kernelspec": {
   "display_name": "Python 3 (ipykernel)",
   "language": "python",
   "name": "python3"
  },
  "language_info": {
   "codemirror_mode": {
    "name": "ipython",
    "version": 3
   },
   "file_extension": ".py",
   "mimetype": "text/x-python",
   "name": "python",
   "nbconvert_exporter": "python",
   "pygments_lexer": "ipython3",
   "version": "3.9.7"
  }
 },
 "nbformat": 4,
 "nbformat_minor": 5
}
